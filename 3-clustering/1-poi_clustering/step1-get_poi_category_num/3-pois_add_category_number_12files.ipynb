{
 "cells": [
  {
   "cell_type": "markdown",
   "metadata": {},
   "source": [
    "**POI Clustering**\n",
    "\n",
    "*Step1: Get the category corresponding to POIs*\n",
    "\n",
    "- 1.1 Split raw POIs data\n",
    "- 1.2 Add CAT_NUMBER to micode sheet(merged by TRADE_GROUP)\n",
    "- **1.3 Add CAT_NUMBER to POI data (merged by MICODE)**\n",
    "- 1.4 Retain POI data with CAT_NUMBER between 101 and 115"
   ]
  },
  {
   "cell_type": "markdown",
   "metadata": {},
   "source": [
    "# 1 Import package"
   ]
  },
  {
   "cell_type": "code",
   "execution_count": 1,
   "metadata": {},
   "outputs": [],
   "source": [
    "import pandas as pd"
   ]
  },
  {
   "cell_type": "markdown",
   "metadata": {},
   "source": [
    "# 2 Merge data"
   ]
  },
  {
   "cell_type": "code",
   "execution_count": 2,
   "metadata": {},
   "outputs": [],
   "source": [
    "# Input and output folder paths\n",
    "input_folder = '../../../../data/Locomizer_edited/pois'\n",
    "output_folder = '../../../../data/Locomizer_edited/pois/add_category_number'"
   ]
  },
  {
   "cell_type": "code",
   "execution_count": 3,
   "metadata": {},
   "outputs": [
    {
     "name": "stderr",
     "output_type": "stream",
     "text": [
      "/var/folders/k8/5696rnpn6mv66f3rfvm28_b00000gn/T/ipykernel_88044/3080933153.py:10: DtypeWarning: Columns (4,5,17,27) have mixed types. Specify dtype option on import or set low_memory=False.\n",
      "  df_pois = pd.read_csv(input_csv_file, encoding='utf-8')\n"
     ]
    },
    {
     "name": "stdout",
     "output_type": "stream",
     "text": [
      "Data has been successfully exported to ../../../../data/Locomizer_edited/pois/add_category_number/2023-05_POIs_MICODE_CAT_NUMBER.csv\n"
     ]
    },
    {
     "name": "stderr",
     "output_type": "stream",
     "text": [
      "/var/folders/k8/5696rnpn6mv66f3rfvm28_b00000gn/T/ipykernel_88044/3080933153.py:10: DtypeWarning: Columns (4,5,17,27) have mixed types. Specify dtype option on import or set low_memory=False.\n",
      "  df_pois = pd.read_csv(input_csv_file, encoding='utf-8')\n"
     ]
    },
    {
     "name": "stdout",
     "output_type": "stream",
     "text": [
      "Data has been successfully exported to ../../../../data/Locomizer_edited/pois/add_category_number/2023-06_POIs_MICODE_CAT_NUMBER.csv\n"
     ]
    },
    {
     "name": "stderr",
     "output_type": "stream",
     "text": [
      "/var/folders/k8/5696rnpn6mv66f3rfvm28_b00000gn/T/ipykernel_88044/3080933153.py:10: DtypeWarning: Columns (4,5,17,27) have mixed types. Specify dtype option on import or set low_memory=False.\n",
      "  df_pois = pd.read_csv(input_csv_file, encoding='utf-8')\n"
     ]
    },
    {
     "name": "stdout",
     "output_type": "stream",
     "text": [
      "Data has been successfully exported to ../../../../data/Locomizer_edited/pois/add_category_number/2023-07_POIs_MICODE_CAT_NUMBER.csv\n"
     ]
    },
    {
     "name": "stderr",
     "output_type": "stream",
     "text": [
      "/var/folders/k8/5696rnpn6mv66f3rfvm28_b00000gn/T/ipykernel_88044/3080933153.py:10: DtypeWarning: Columns (4,5,17,27) have mixed types. Specify dtype option on import or set low_memory=False.\n",
      "  df_pois = pd.read_csv(input_csv_file, encoding='utf-8')\n"
     ]
    },
    {
     "name": "stdout",
     "output_type": "stream",
     "text": [
      "Data has been successfully exported to ../../../../data/Locomizer_edited/pois/add_category_number/2023-08_POIs_MICODE_CAT_NUMBER.csv\n"
     ]
    },
    {
     "name": "stderr",
     "output_type": "stream",
     "text": [
      "/var/folders/k8/5696rnpn6mv66f3rfvm28_b00000gn/T/ipykernel_88044/3080933153.py:10: DtypeWarning: Columns (4,5,17,27) have mixed types. Specify dtype option on import or set low_memory=False.\n",
      "  df_pois = pd.read_csv(input_csv_file, encoding='utf-8')\n"
     ]
    },
    {
     "name": "stdout",
     "output_type": "stream",
     "text": [
      "Data has been successfully exported to ../../../../data/Locomizer_edited/pois/add_category_number/2023-09_POIs_MICODE_CAT_NUMBER.csv\n"
     ]
    },
    {
     "name": "stderr",
     "output_type": "stream",
     "text": [
      "/var/folders/k8/5696rnpn6mv66f3rfvm28_b00000gn/T/ipykernel_88044/3080933153.py:10: DtypeWarning: Columns (4,5,17,27) have mixed types. Specify dtype option on import or set low_memory=False.\n",
      "  df_pois = pd.read_csv(input_csv_file, encoding='utf-8')\n"
     ]
    },
    {
     "name": "stdout",
     "output_type": "stream",
     "text": [
      "Data has been successfully exported to ../../../../data/Locomizer_edited/pois/add_category_number/2023-10_POIs_MICODE_CAT_NUMBER.csv\n"
     ]
    },
    {
     "name": "stderr",
     "output_type": "stream",
     "text": [
      "/var/folders/k8/5696rnpn6mv66f3rfvm28_b00000gn/T/ipykernel_88044/3080933153.py:10: DtypeWarning: Columns (4,5,17,27) have mixed types. Specify dtype option on import or set low_memory=False.\n",
      "  df_pois = pd.read_csv(input_csv_file, encoding='utf-8')\n"
     ]
    },
    {
     "name": "stdout",
     "output_type": "stream",
     "text": [
      "Data has been successfully exported to ../../../../data/Locomizer_edited/pois/add_category_number/2023-11_POIs_MICODE_CAT_NUMBER.csv\n"
     ]
    },
    {
     "name": "stderr",
     "output_type": "stream",
     "text": [
      "/var/folders/k8/5696rnpn6mv66f3rfvm28_b00000gn/T/ipykernel_88044/3080933153.py:10: DtypeWarning: Columns (4,5,17,27) have mixed types. Specify dtype option on import or set low_memory=False.\n",
      "  df_pois = pd.read_csv(input_csv_file, encoding='utf-8')\n"
     ]
    },
    {
     "name": "stdout",
     "output_type": "stream",
     "text": [
      "Data has been successfully exported to ../../../../data/Locomizer_edited/pois/add_category_number/2023-12_POIs_MICODE_CAT_NUMBER.csv\n"
     ]
    },
    {
     "name": "stderr",
     "output_type": "stream",
     "text": [
      "/var/folders/k8/5696rnpn6mv66f3rfvm28_b00000gn/T/ipykernel_88044/3080933153.py:10: DtypeWarning: Columns (4,5,17,27) have mixed types. Specify dtype option on import or set low_memory=False.\n",
      "  df_pois = pd.read_csv(input_csv_file, encoding='utf-8')\n"
     ]
    },
    {
     "name": "stdout",
     "output_type": "stream",
     "text": [
      "Data has been successfully exported to ../../../../data/Locomizer_edited/pois/add_category_number/2024-01_POIs_MICODE_CAT_NUMBER.csv\n"
     ]
    },
    {
     "name": "stderr",
     "output_type": "stream",
     "text": [
      "/var/folders/k8/5696rnpn6mv66f3rfvm28_b00000gn/T/ipykernel_88044/3080933153.py:10: DtypeWarning: Columns (4,5,17,27) have mixed types. Specify dtype option on import or set low_memory=False.\n",
      "  df_pois = pd.read_csv(input_csv_file, encoding='utf-8')\n"
     ]
    },
    {
     "name": "stdout",
     "output_type": "stream",
     "text": [
      "Data has been successfully exported to ../../../../data/Locomizer_edited/pois/add_category_number/2024-02_POIs_MICODE_CAT_NUMBER.csv\n"
     ]
    },
    {
     "name": "stderr",
     "output_type": "stream",
     "text": [
      "/var/folders/k8/5696rnpn6mv66f3rfvm28_b00000gn/T/ipykernel_88044/3080933153.py:10: DtypeWarning: Columns (4,5,17,27) have mixed types. Specify dtype option on import or set low_memory=False.\n",
      "  df_pois = pd.read_csv(input_csv_file, encoding='utf-8')\n"
     ]
    },
    {
     "name": "stdout",
     "output_type": "stream",
     "text": [
      "Data has been successfully exported to ../../../../data/Locomizer_edited/pois/add_category_number/2024-03_POIs_MICODE_CAT_NUMBER.csv\n"
     ]
    },
    {
     "name": "stderr",
     "output_type": "stream",
     "text": [
      "/var/folders/k8/5696rnpn6mv66f3rfvm28_b00000gn/T/ipykernel_88044/3080933153.py:10: DtypeWarning: Columns (4,5,17,27) have mixed types. Specify dtype option on import or set low_memory=False.\n",
      "  df_pois = pd.read_csv(input_csv_file, encoding='utf-8')\n"
     ]
    },
    {
     "name": "stdout",
     "output_type": "stream",
     "text": [
      "Data has been successfully exported to ../../../../data/Locomizer_edited/pois/add_category_number/2024-04_POIs_MICODE_CAT_NUMBER.csv\n"
     ]
    }
   ],
   "source": [
    "# Iterate over the specified folder and file names\n",
    "for month in ['2023-05', '2023-06', '2023-07', '2023-08', '2023-09', '2023-10', \n",
    "              '2023-11', '2023-12', '2024-01', '2024-02', '2024-03', '2024-04']:\n",
    "    \n",
    "    # Construct input and output file paths\n",
    "    input_csv_file = f'{input_folder}/{month}_POIs_for_JCD_Finland_(micodes).csv'\n",
    "    output_csv_file = f'{output_folder}/{month}_POIs_MICODE_CAT_NUMBER.csv'\n",
    "    \n",
    "    # Read the CSV file\n",
    "    df_pois = pd.read_csv(input_csv_file, encoding='utf-8')\n",
    "\n",
    "    # Read the Excel file\n",
    "    input_excel_file = '../../../../data/Locomizer_edited/micode_sheet_edited.xlsx'\n",
    "    df_micode = pd.read_excel(input_excel_file)\n",
    "\n",
    "    # Merge data based on the MICODE column\n",
    "    df_merged = df_pois.merge(df_micode[['MICODE', 'CAT_NUMBER']], on='MICODE', how='left')\n",
    "\n",
    "    # Save the merged DataFrame to a new CSV file\n",
    "    df_merged.to_csv(output_csv_file, index=False, encoding='utf-8')\n",
    "\n",
    "    print(f'Data has been successfully exported to {output_csv_file}')"
   ]
  }
 ],
 "metadata": {
  "kernelspec": {
   "display_name": "base",
   "language": "python",
   "name": "python3"
  },
  "language_info": {
   "codemirror_mode": {
    "name": "ipython",
    "version": 3
   },
   "file_extension": ".py",
   "mimetype": "text/x-python",
   "name": "python",
   "nbconvert_exporter": "python",
   "pygments_lexer": "ipython3",
   "version": "3.11.5"
  }
 },
 "nbformat": 4,
 "nbformat_minor": 2
}
