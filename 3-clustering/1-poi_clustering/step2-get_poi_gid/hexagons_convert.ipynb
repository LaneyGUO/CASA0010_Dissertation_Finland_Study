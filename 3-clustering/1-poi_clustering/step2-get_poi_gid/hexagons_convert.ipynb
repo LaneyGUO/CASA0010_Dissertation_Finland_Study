{
 "cells": [
  {
   "cell_type": "markdown",
   "metadata": {},
   "source": [
    "**POI Clustering**\n",
    "\n",
    "*Step2: Get hexagons' code \"gid_10\" to POIs*\n",
    "Hexagons' geometry latitude nad longitude convert."
   ]
  },
  {
   "cell_type": "markdown",
   "metadata": {},
   "source": [
    "# 1 Import package"
   ]
  },
  {
   "cell_type": "code",
   "execution_count": 1,
   "metadata": {},
   "outputs": [],
   "source": [
    "import pandas as pd"
   ]
  },
  {
   "cell_type": "markdown",
   "metadata": {},
   "source": [
    "# 2 Convert data"
   ]
  },
  {
   "cell_type": "code",
   "execution_count": 2,
   "metadata": {},
   "outputs": [
    {
     "data": {
      "text/html": [
       "<div>\n",
       "<style scoped>\n",
       "    .dataframe tbody tr th:only-of-type {\n",
       "        vertical-align: middle;\n",
       "    }\n",
       "\n",
       "    .dataframe tbody tr th {\n",
       "        vertical-align: top;\n",
       "    }\n",
       "\n",
       "    .dataframe thead th {\n",
       "        text-align: right;\n",
       "    }\n",
       "</style>\n",
       "<table border=\"1\" class=\"dataframe\">\n",
       "  <thead>\n",
       "    <tr style=\"text-align: right;\">\n",
       "      <th></th>\n",
       "      <th>geometry</th>\n",
       "      <th>gid_10</th>\n",
       "      <th>center_lat</th>\n",
       "      <th>center_lon</th>\n",
       "    </tr>\n",
       "  </thead>\n",
       "  <tbody>\n",
       "    <tr>\n",
       "      <th>0</th>\n",
       "      <td>POLYGON ((60.17773095257783 26.25507443782369,...</td>\n",
       "      <td>8a1135b64a17fff</td>\n",
       "      <td>60.177912</td>\n",
       "      <td>26.256181</td>\n",
       "    </tr>\n",
       "    <tr>\n",
       "      <th>1</th>\n",
       "      <td>POLYGON ((60.19088707363144 26.51127504967518,...</td>\n",
       "      <td>8a1135a64a17fff</td>\n",
       "      <td>60.191066</td>\n",
       "      <td>26.512386</td>\n",
       "    </tr>\n",
       "    <tr>\n",
       "      <th>2</th>\n",
       "      <td>POLYGON ((69.83794580806661 28.29983693737527,...</td>\n",
       "      <td>8a0135964a07fff</td>\n",
       "      <td>69.838522</td>\n",
       "      <td>28.299906</td>\n",
       "    </tr>\n",
       "    <tr>\n",
       "      <th>3</th>\n",
       "      <td>POLYGON ((62.31111228782132 28.52828024024379,...</td>\n",
       "      <td>8a112ed64a17fff</td>\n",
       "      <td>62.311286</td>\n",
       "      <td>28.529498</td>\n",
       "    </tr>\n",
       "    <tr>\n",
       "      <th>4</th>\n",
       "      <td>POLYGON ((62.20202659247287 28.95251817276446,...</td>\n",
       "      <td>8a112ece4a1ffff</td>\n",
       "      <td>62.202196</td>\n",
       "      <td>28.953739</td>\n",
       "    </tr>\n",
       "  </tbody>\n",
       "</table>\n",
       "</div>"
      ],
      "text/plain": [
       "                                            geometry           gid_10  \\\n",
       "0  POLYGON ((60.17773095257783 26.25507443782369,...  8a1135b64a17fff   \n",
       "1  POLYGON ((60.19088707363144 26.51127504967518,...  8a1135a64a17fff   \n",
       "2  POLYGON ((69.83794580806661 28.29983693737527,...  8a0135964a07fff   \n",
       "3  POLYGON ((62.31111228782132 28.52828024024379,...  8a112ed64a17fff   \n",
       "4  POLYGON ((62.20202659247287 28.95251817276446,...  8a112ece4a1ffff   \n",
       "\n",
       "   center_lat  center_lon  \n",
       "0   60.177912   26.256181  \n",
       "1   60.191066   26.512386  \n",
       "2   69.838522   28.299906  \n",
       "3   62.311286   28.529498  \n",
       "4   62.202196   28.953739  "
      ]
     },
     "execution_count": 2,
     "metadata": {},
     "output_type": "execute_result"
    }
   ],
   "source": [
    "# Read CSV file of POIs\n",
    "input_file_path = '../../../../data/Locomizer_edited/finland_hexagons.csv'\n",
    "df = pd.read_csv(input_file_path)\n",
    "\n",
    "df.head()"
   ]
  },
  {
   "cell_type": "code",
   "execution_count": 3,
   "metadata": {},
   "outputs": [
    {
     "name": "stdout",
     "output_type": "stream",
     "text": [
      "<class 'pandas.core.frame.DataFrame'>\n",
      "RangeIndex: 33855616 entries, 0 to 33855615\n",
      "Data columns (total 4 columns):\n",
      " #   Column      Dtype  \n",
      "---  ------      -----  \n",
      " 0   geometry    object \n",
      " 1   gid_10      object \n",
      " 2   center_lat  float64\n",
      " 3   center_lon  float64\n",
      "dtypes: float64(2), object(2)\n",
      "memory usage: 1.0+ GB\n"
     ]
    }
   ],
   "source": [
    "df.info()"
   ]
  },
  {
   "cell_type": "code",
   "execution_count": 4,
   "metadata": {},
   "outputs": [
    {
     "data": {
      "text/html": [
       "<div>\n",
       "<style scoped>\n",
       "    .dataframe tbody tr th:only-of-type {\n",
       "        vertical-align: middle;\n",
       "    }\n",
       "\n",
       "    .dataframe tbody tr th {\n",
       "        vertical-align: top;\n",
       "    }\n",
       "\n",
       "    .dataframe thead th {\n",
       "        text-align: right;\n",
       "    }\n",
       "</style>\n",
       "<table border=\"1\" class=\"dataframe\">\n",
       "  <thead>\n",
       "    <tr style=\"text-align: right;\">\n",
       "      <th></th>\n",
       "      <th>geometry</th>\n",
       "      <th>gid_10</th>\n",
       "      <th>center_lat</th>\n",
       "      <th>center_lon</th>\n",
       "      <th>convert_geometry</th>\n",
       "    </tr>\n",
       "  </thead>\n",
       "  <tbody>\n",
       "    <tr>\n",
       "      <th>0</th>\n",
       "      <td>POLYGON ((60.17773095257783 26.25507443782369,...</td>\n",
       "      <td>8a1135b64a17fff</td>\n",
       "      <td>60.177912</td>\n",
       "      <td>26.256181</td>\n",
       "      <td>POLYGON ((26.25507443782369 60.17773095257783,...</td>\n",
       "    </tr>\n",
       "    <tr>\n",
       "      <th>1</th>\n",
       "      <td>POLYGON ((60.19088707363144 26.51127504967518,...</td>\n",
       "      <td>8a1135a64a17fff</td>\n",
       "      <td>60.191066</td>\n",
       "      <td>26.512386</td>\n",
       "      <td>POLYGON ((26.51127504967518 60.19088707363144,...</td>\n",
       "    </tr>\n",
       "    <tr>\n",
       "      <th>2</th>\n",
       "      <td>POLYGON ((69.83794580806661 28.29983693737527,...</td>\n",
       "      <td>8a0135964a07fff</td>\n",
       "      <td>69.838522</td>\n",
       "      <td>28.299906</td>\n",
       "      <td>POLYGON ((28.29983693737527 69.83794580806661,...</td>\n",
       "    </tr>\n",
       "    <tr>\n",
       "      <th>3</th>\n",
       "      <td>POLYGON ((62.31111228782132 28.52828024024379,...</td>\n",
       "      <td>8a112ed64a17fff</td>\n",
       "      <td>62.311286</td>\n",
       "      <td>28.529498</td>\n",
       "      <td>POLYGON ((28.52828024024379 62.31111228782132,...</td>\n",
       "    </tr>\n",
       "    <tr>\n",
       "      <th>4</th>\n",
       "      <td>POLYGON ((62.20202659247287 28.95251817276446,...</td>\n",
       "      <td>8a112ece4a1ffff</td>\n",
       "      <td>62.202196</td>\n",
       "      <td>28.953739</td>\n",
       "      <td>POLYGON ((28.95251817276446 62.20202659247287,...</td>\n",
       "    </tr>\n",
       "  </tbody>\n",
       "</table>\n",
       "</div>"
      ],
      "text/plain": [
       "                                            geometry           gid_10  \\\n",
       "0  POLYGON ((60.17773095257783 26.25507443782369,...  8a1135b64a17fff   \n",
       "1  POLYGON ((60.19088707363144 26.51127504967518,...  8a1135a64a17fff   \n",
       "2  POLYGON ((69.83794580806661 28.29983693737527,...  8a0135964a07fff   \n",
       "3  POLYGON ((62.31111228782132 28.52828024024379,...  8a112ed64a17fff   \n",
       "4  POLYGON ((62.20202659247287 28.95251817276446,...  8a112ece4a1ffff   \n",
       "\n",
       "   center_lat  center_lon                                   convert_geometry  \n",
       "0   60.177912   26.256181  POLYGON ((26.25507443782369 60.17773095257783,...  \n",
       "1   60.191066   26.512386  POLYGON ((26.51127504967518 60.19088707363144,...  \n",
       "2   69.838522   28.299906  POLYGON ((28.29983693737527 69.83794580806661,...  \n",
       "3   62.311286   28.529498  POLYGON ((28.52828024024379 62.31111228782132,...  \n",
       "4   62.202196   28.953739  POLYGON ((28.95251817276446 62.20202659247287,...  "
      ]
     },
     "execution_count": 4,
     "metadata": {},
     "output_type": "execute_result"
    }
   ],
   "source": [
    "# 修正 geometry 列的经纬度顺序并创建新的 geometry 列\n",
    "df['convert_geometry'] = df['geometry'].apply(\n",
    "    lambda wkt: 'POLYGON ((' + ', '.join([' '.join(reversed(point.split())) for point in wkt.replace('POLYGON ((', '').replace('))', '').split(', ')]) + '))'\n",
    ")\n",
    "df.head()"
   ]
  },
  {
   "cell_type": "code",
   "execution_count": 6,
   "metadata": {},
   "outputs": [],
   "source": [
    "# Save gdf as a CSV file\n",
    "output_file_path = '../../../../data/Locomizer_edited/finland_hexagons_converted.csv'\n",
    "df.to_csv(output_file_path, index=False)"
   ]
  }
 ],
 "metadata": {
  "kernelspec": {
   "display_name": "base",
   "language": "python",
   "name": "python3"
  },
  "language_info": {
   "codemirror_mode": {
    "name": "ipython",
    "version": 3
   },
   "file_extension": ".py",
   "mimetype": "text/x-python",
   "name": "python",
   "nbconvert_exporter": "python",
   "pygments_lexer": "ipython3",
   "version": "3.11.5"
  }
 },
 "nbformat": 4,
 "nbformat_minor": 2
}
