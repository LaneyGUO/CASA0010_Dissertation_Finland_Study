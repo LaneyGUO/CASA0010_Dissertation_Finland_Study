{
 "cells": [
  {
   "cell_type": "markdown",
   "metadata": {},
   "source": [
    "**Affinity scores Clustering**\n",
    "\n",
    "*Step1: Get the gid_10 corresponding to scores*\n",
    "\n",
    "- 1.1 Combined 12-month data and Convert scores data, Add gid_10 to scores\n",
    "- 1.2 Aggregated data by gid_10"
   ]
  },
  {
   "cell_type": "markdown",
   "metadata": {},
   "source": [
    "# 1 Import package"
   ]
  },
  {
   "cell_type": "code",
   "execution_count": 2,
   "metadata": {},
   "outputs": [],
   "source": [
    "import pandas as pd\n",
    "import os"
   ]
  },
  {
   "cell_type": "markdown",
   "metadata": {},
   "source": [
    "# 2 Combine data"
   ]
  },
  {
   "cell_type": "code",
   "execution_count": 46,
   "metadata": {},
   "outputs": [],
   "source": [
    "# Define the base path\n",
    "base_path = '../../../../data/Locomizer/profiling'\n",
    "\n",
    "# Define the folders to be read\n",
    "folders = ['2023-05', '2023-06', '2023-07', '2023-08', '2023-09', '2023-10', \n",
    "           '2023-11', '2023-12', '2024-01', '2024-02', '2024-03', '2024-04']\n",
    "subfolders = ['0', '1']\n",
    "file_name = 'part-00000'  # Ensure the file name includes the extension"
   ]
  },
  {
   "cell_type": "code",
   "execution_count": 47,
   "metadata": {},
   "outputs": [
    {
     "name": "stdout",
     "output_type": "stream",
     "text": [
      "Finished combine: ('2023-05', '0')\n",
      "Finished combine: ('2023-05', '1')\n",
      "Finished combine: ('2023-06', '0')\n",
      "Finished combine: ('2023-06', '1')\n",
      "Finished combine: ('2023-07', '0')\n",
      "Finished combine: ('2023-07', '1')\n",
      "Finished combine: ('2023-08', '0')\n",
      "Finished combine: ('2023-08', '1')\n",
      "Finished combine: ('2023-09', '0')\n",
      "Finished combine: ('2023-09', '1')\n",
      "Finished combine: ('2023-10', '0')\n",
      "Finished combine: ('2023-10', '1')\n",
      "Finished combine: ('2023-11', '0')\n",
      "Finished combine: ('2023-11', '1')\n",
      "Finished combine: ('2023-12', '0')\n",
      "Finished combine: ('2023-12', '1')\n",
      "Finished combine: ('2024-01', '0')\n",
      "Finished combine: ('2024-01', '1')\n",
      "Finished combine: ('2024-02', '0')\n",
      "Finished combine: ('2024-02', '1')\n",
      "Finished combine: ('2024-03', '0')\n",
      "Finished combine: ('2024-03', '1')\n",
      "Finished combine: ('2024-04', '0')\n",
      "Finished combine: ('2024-04', '1')\n"
     ]
    }
   ],
   "source": [
    "# Initialize an empty list to store DataFrames\n",
    "dataframes = []\n",
    "\n",
    "# Iterate over the specified folders and subfolders\n",
    "for folder in folders:\n",
    "    for subfolder in subfolders:\n",
    "        # Construct the full path to the file\n",
    "        file_path = os.path.join(base_path, folder, subfolder, 'scores', file_name)\n",
    "        \n",
    "        # Check if the file exists\n",
    "        if os.path.exists(file_path):\n",
    "            # Read the file into a DataFrame, setting header=None\n",
    "            df = pd.read_csv(file_path, sep='\\t', header=None)  # Specify the separator as a tab, and do not use a header row\n",
    "            dataframes.append(df)\n",
    "            print(f\"Finished combining: {folder, subfolder}\")\n",
    "        else:\n",
    "            print(f\"File not found: {file_path}\")"
   ]
  },
  {
   "cell_type": "code",
   "execution_count": 48,
   "metadata": {},
   "outputs": [],
   "source": [
    "\n",
    "combined_df = pd.concat(dataframes, ignore_index=True)"
   ]
  },
  {
   "cell_type": "code",
   "execution_count": 49,
   "metadata": {},
   "outputs": [
    {
     "name": "stdout",
     "output_type": "stream",
     "text": [
      "<class 'pandas.core.frame.DataFrame'>\n",
      "RangeIndex: 36545194 entries, 0 to 36545193\n",
      "Data columns (total 3 columns):\n",
      " #   Column  Dtype  \n",
      "---  ------  -----  \n",
      " 0   0       int64  \n",
      " 1   1       object \n",
      " 2   2       float64\n",
      "dtypes: float64(1), int64(1), object(1)\n",
      "memory usage: 836.5+ MB\n"
     ]
    }
   ],
   "source": [
    "combined_df.info()"
   ]
  },
  {
   "cell_type": "markdown",
   "metadata": {},
   "source": [
    "## 3 Convert data"
   ]
  },
  {
   "cell_type": "code",
   "execution_count": 50,
   "metadata": {},
   "outputs": [
    {
     "data": {
      "text/html": [
       "<div>\n",
       "<style scoped>\n",
       "    .dataframe tbody tr th:only-of-type {\n",
       "        vertical-align: middle;\n",
       "    }\n",
       "\n",
       "    .dataframe tbody tr th {\n",
       "        vertical-align: top;\n",
       "    }\n",
       "\n",
       "    .dataframe thead th {\n",
       "        text-align: right;\n",
       "    }\n",
       "</style>\n",
       "<table border=\"1\" class=\"dataframe\">\n",
       "  <thead>\n",
       "    <tr style=\"text-align: right;\">\n",
       "      <th></th>\n",
       "      <th>Category</th>\n",
       "      <th>ID</th>\n",
       "      <th>Score</th>\n",
       "    </tr>\n",
       "  </thead>\n",
       "  <tbody>\n",
       "    <tr>\n",
       "      <th>0</th>\n",
       "      <td>101</td>\n",
       "      <td>b78350d2-ff89-45d5-bb78-799c9b0b6047</td>\n",
       "      <td>9.276727</td>\n",
       "    </tr>\n",
       "    <tr>\n",
       "      <th>1</th>\n",
       "      <td>102</td>\n",
       "      <td>b78350d2-ff89-45d5-bb78-799c9b0b6047</td>\n",
       "      <td>57.103790</td>\n",
       "    </tr>\n",
       "    <tr>\n",
       "      <th>2</th>\n",
       "      <td>103</td>\n",
       "      <td>b78350d2-ff89-45d5-bb78-799c9b0b6047</td>\n",
       "      <td>116.594063</td>\n",
       "    </tr>\n",
       "    <tr>\n",
       "      <th>3</th>\n",
       "      <td>104</td>\n",
       "      <td>b78350d2-ff89-45d5-bb78-799c9b0b6047</td>\n",
       "      <td>59.213940</td>\n",
       "    </tr>\n",
       "    <tr>\n",
       "      <th>4</th>\n",
       "      <td>105</td>\n",
       "      <td>b78350d2-ff89-45d5-bb78-799c9b0b6047</td>\n",
       "      <td>135.939200</td>\n",
       "    </tr>\n",
       "  </tbody>\n",
       "</table>\n",
       "</div>"
      ],
      "text/plain": [
       "   Category                                    ID       Score\n",
       "0       101  b78350d2-ff89-45d5-bb78-799c9b0b6047    9.276727\n",
       "1       102  b78350d2-ff89-45d5-bb78-799c9b0b6047   57.103790\n",
       "2       103  b78350d2-ff89-45d5-bb78-799c9b0b6047  116.594063\n",
       "3       104  b78350d2-ff89-45d5-bb78-799c9b0b6047   59.213940\n",
       "4       105  b78350d2-ff89-45d5-bb78-799c9b0b6047  135.939200"
      ]
     },
     "execution_count": 50,
     "metadata": {},
     "output_type": "execute_result"
    }
   ],
   "source": [
    "# set column names\n",
    "combined_df.columns = ['Category', 'ID', 'Score']\n",
    "combined_df.head()"
   ]
  },
  {
   "cell_type": "code",
   "execution_count": 57,
   "metadata": {},
   "outputs": [
    {
     "name": "stdout",
     "output_type": "stream",
     "text": [
      "<class 'pandas.core.frame.DataFrame'>\n",
      "RangeIndex: 1302236 entries, 0 to 1302235\n",
      "Data columns (total 21 columns):\n",
      " #   Column  Non-Null Count    Dtype  \n",
      "---  ------  --------------    -----  \n",
      " 0   ID      1302236 non-null  object \n",
      " 1   101     1302236 non-null  float64\n",
      " 2   102     1302236 non-null  float64\n",
      " 3   103     1302236 non-null  float64\n",
      " 4   104     1302236 non-null  float64\n",
      " 5   105     1302236 non-null  float64\n",
      " 6   106     1302236 non-null  float64\n",
      " 7   107     1302236 non-null  float64\n",
      " 8   108     1302236 non-null  float64\n",
      " 9   109     1302236 non-null  float64\n",
      " 10  110     1302236 non-null  float64\n",
      " 11  111     1302236 non-null  float64\n",
      " 12  112     1302236 non-null  float64\n",
      " 13  113     1302236 non-null  float64\n",
      " 14  114     1302236 non-null  float64\n",
      " 15  115     1302236 non-null  float64\n",
      " 16  116     1302236 non-null  float64\n",
      " 17  117     1302236 non-null  float64\n",
      " 18  118     1302236 non-null  float64\n",
      " 19  119     1302236 non-null  float64\n",
      " 20  120     1302236 non-null  float64\n",
      "dtypes: float64(20), object(1)\n",
      "memory usage: 208.6+ MB\n"
     ]
    }
   ],
   "source": [
    "# create pivot table\n",
    "pivot_df = combined_df.pivot_table(index='ID', columns='Category', values='Score', aggfunc='mean').fillna(0)\n",
    "# Reset indexes to make IDs part of the DataFrame\n",
    "pivot_df.reset_index(inplace=True)\n",
    "\n",
    "pivot_df.info()"
   ]
  },
  {
   "cell_type": "code",
   "execution_count": 58,
   "metadata": {},
   "outputs": [
    {
     "data": {
      "text/html": [
       "<div>\n",
       "<style scoped>\n",
       "    .dataframe tbody tr th:only-of-type {\n",
       "        vertical-align: middle;\n",
       "    }\n",
       "\n",
       "    .dataframe tbody tr th {\n",
       "        vertical-align: top;\n",
       "    }\n",
       "\n",
       "    .dataframe thead th {\n",
       "        text-align: right;\n",
       "    }\n",
       "</style>\n",
       "<table border=\"1\" class=\"dataframe\">\n",
       "  <thead>\n",
       "    <tr style=\"text-align: right;\">\n",
       "      <th>Category</th>\n",
       "      <th>ID</th>\n",
       "      <th>101</th>\n",
       "      <th>102</th>\n",
       "      <th>103</th>\n",
       "      <th>104</th>\n",
       "      <th>105</th>\n",
       "      <th>106</th>\n",
       "      <th>107</th>\n",
       "      <th>108</th>\n",
       "      <th>109</th>\n",
       "      <th>...</th>\n",
       "      <th>111</th>\n",
       "      <th>112</th>\n",
       "      <th>113</th>\n",
       "      <th>114</th>\n",
       "      <th>115</th>\n",
       "      <th>116</th>\n",
       "      <th>117</th>\n",
       "      <th>118</th>\n",
       "      <th>119</th>\n",
       "      <th>120</th>\n",
       "    </tr>\n",
       "  </thead>\n",
       "  <tbody>\n",
       "    <tr>\n",
       "      <th>0</th>\n",
       "      <td>00000000-3bf7-56be-c8ef-0c4666a6ed36</td>\n",
       "      <td>16.648749</td>\n",
       "      <td>44.152675</td>\n",
       "      <td>88.142294</td>\n",
       "      <td>9.483273</td>\n",
       "      <td>99.915290</td>\n",
       "      <td>107.423721</td>\n",
       "      <td>73.211517</td>\n",
       "      <td>87.911140</td>\n",
       "      <td>65.965107</td>\n",
       "      <td>...</td>\n",
       "      <td>18.868994</td>\n",
       "      <td>51.914051</td>\n",
       "      <td>6.547848</td>\n",
       "      <td>32.132615</td>\n",
       "      <td>61.368284</td>\n",
       "      <td>0.000000</td>\n",
       "      <td>11.805995</td>\n",
       "      <td>3.932320</td>\n",
       "      <td>12.988205</td>\n",
       "      <td>7.123373</td>\n",
       "    </tr>\n",
       "    <tr>\n",
       "      <th>1</th>\n",
       "      <td>00000000-3c88-ddfb-fc65-f2bf3eb90ad4</td>\n",
       "      <td>0.000000</td>\n",
       "      <td>0.000000</td>\n",
       "      <td>13.591256</td>\n",
       "      <td>52.169873</td>\n",
       "      <td>86.650694</td>\n",
       "      <td>64.534465</td>\n",
       "      <td>0.000000</td>\n",
       "      <td>59.035086</td>\n",
       "      <td>13.591256</td>\n",
       "      <td>...</td>\n",
       "      <td>51.731176</td>\n",
       "      <td>0.000000</td>\n",
       "      <td>0.000000</td>\n",
       "      <td>8.185950</td>\n",
       "      <td>0.000000</td>\n",
       "      <td>0.000000</td>\n",
       "      <td>0.000000</td>\n",
       "      <td>0.000000</td>\n",
       "      <td>0.000000</td>\n",
       "      <td>0.000000</td>\n",
       "    </tr>\n",
       "    <tr>\n",
       "      <th>2</th>\n",
       "      <td>000000ec-306f-603f-21a0-26e3d3a690f9</td>\n",
       "      <td>0.000000</td>\n",
       "      <td>0.000000</td>\n",
       "      <td>53.453497</td>\n",
       "      <td>0.000000</td>\n",
       "      <td>80.473127</td>\n",
       "      <td>15.541134</td>\n",
       "      <td>173.055228</td>\n",
       "      <td>113.718114</td>\n",
       "      <td>0.000000</td>\n",
       "      <td>...</td>\n",
       "      <td>6.237392</td>\n",
       "      <td>55.069112</td>\n",
       "      <td>0.000000</td>\n",
       "      <td>0.000000</td>\n",
       "      <td>74.649449</td>\n",
       "      <td>0.000000</td>\n",
       "      <td>0.000000</td>\n",
       "      <td>0.000000</td>\n",
       "      <td>0.000000</td>\n",
       "      <td>0.000000</td>\n",
       "    </tr>\n",
       "    <tr>\n",
       "      <th>3</th>\n",
       "      <td>00000bfc-ea1f-4789-916b-6466c1d456af</td>\n",
       "      <td>67.857328</td>\n",
       "      <td>41.264206</td>\n",
       "      <td>125.862793</td>\n",
       "      <td>52.816490</td>\n",
       "      <td>70.127947</td>\n",
       "      <td>45.966446</td>\n",
       "      <td>97.356606</td>\n",
       "      <td>88.877302</td>\n",
       "      <td>99.398662</td>\n",
       "      <td>...</td>\n",
       "      <td>8.135838</td>\n",
       "      <td>66.573743</td>\n",
       "      <td>5.745851</td>\n",
       "      <td>0.718489</td>\n",
       "      <td>62.911062</td>\n",
       "      <td>0.000000</td>\n",
       "      <td>2.958010</td>\n",
       "      <td>0.770048</td>\n",
       "      <td>65.055877</td>\n",
       "      <td>2.644417</td>\n",
       "    </tr>\n",
       "    <tr>\n",
       "      <th>4</th>\n",
       "      <td>00000c64-ab8d-4baa-94f4-6d653ff1aa0f</td>\n",
       "      <td>50.360191</td>\n",
       "      <td>77.070335</td>\n",
       "      <td>114.605382</td>\n",
       "      <td>54.267778</td>\n",
       "      <td>118.911572</td>\n",
       "      <td>36.396126</td>\n",
       "      <td>170.787877</td>\n",
       "      <td>103.778851</td>\n",
       "      <td>11.359709</td>\n",
       "      <td>...</td>\n",
       "      <td>36.140814</td>\n",
       "      <td>15.542064</td>\n",
       "      <td>6.047429</td>\n",
       "      <td>8.554166</td>\n",
       "      <td>61.689939</td>\n",
       "      <td>3.853194</td>\n",
       "      <td>29.022036</td>\n",
       "      <td>28.819926</td>\n",
       "      <td>11.676369</td>\n",
       "      <td>3.845436</td>\n",
       "    </tr>\n",
       "  </tbody>\n",
       "</table>\n",
       "<p>5 rows × 21 columns</p>\n",
       "</div>"
      ],
      "text/plain": [
       "Category                                    ID        101        102  \\\n",
       "0         00000000-3bf7-56be-c8ef-0c4666a6ed36  16.648749  44.152675   \n",
       "1         00000000-3c88-ddfb-fc65-f2bf3eb90ad4   0.000000   0.000000   \n",
       "2         000000ec-306f-603f-21a0-26e3d3a690f9   0.000000   0.000000   \n",
       "3         00000bfc-ea1f-4789-916b-6466c1d456af  67.857328  41.264206   \n",
       "4         00000c64-ab8d-4baa-94f4-6d653ff1aa0f  50.360191  77.070335   \n",
       "\n",
       "Category         103        104         105         106         107  \\\n",
       "0          88.142294   9.483273   99.915290  107.423721   73.211517   \n",
       "1          13.591256  52.169873   86.650694   64.534465    0.000000   \n",
       "2          53.453497   0.000000   80.473127   15.541134  173.055228   \n",
       "3         125.862793  52.816490   70.127947   45.966446   97.356606   \n",
       "4         114.605382  54.267778  118.911572   36.396126  170.787877   \n",
       "\n",
       "Category         108        109  ...        111        112       113  \\\n",
       "0          87.911140  65.965107  ...  18.868994  51.914051  6.547848   \n",
       "1          59.035086  13.591256  ...  51.731176   0.000000  0.000000   \n",
       "2         113.718114   0.000000  ...   6.237392  55.069112  0.000000   \n",
       "3          88.877302  99.398662  ...   8.135838  66.573743  5.745851   \n",
       "4         103.778851  11.359709  ...  36.140814  15.542064  6.047429   \n",
       "\n",
       "Category        114        115       116        117        118        119  \\\n",
       "0         32.132615  61.368284  0.000000  11.805995   3.932320  12.988205   \n",
       "1          8.185950   0.000000  0.000000   0.000000   0.000000   0.000000   \n",
       "2          0.000000  74.649449  0.000000   0.000000   0.000000   0.000000   \n",
       "3          0.718489  62.911062  0.000000   2.958010   0.770048  65.055877   \n",
       "4          8.554166  61.689939  3.853194  29.022036  28.819926  11.676369   \n",
       "\n",
       "Category       120  \n",
       "0         7.123373  \n",
       "1         0.000000  \n",
       "2         0.000000  \n",
       "3         2.644417  \n",
       "4         3.845436  \n",
       "\n",
       "[5 rows x 21 columns]"
      ]
     },
     "execution_count": 58,
     "metadata": {},
     "output_type": "execute_result"
    }
   ],
   "source": [
    "pivot_df.head()"
   ]
  },
  {
   "cell_type": "code",
   "execution_count": null,
   "metadata": {},
   "outputs": [],
   "source": [
    "\n",
    "pivot_df.drop(columns=range(116, 121), inplace=True)"
   ]
  },
  {
   "cell_type": "code",
   "execution_count": 62,
   "metadata": {},
   "outputs": [
    {
     "name": "stdout",
     "output_type": "stream",
     "text": [
      "<class 'pandas.core.frame.DataFrame'>\n",
      "RangeIndex: 1302236 entries, 0 to 1302235\n",
      "Data columns (total 16 columns):\n",
      " #   Column  Non-Null Count    Dtype  \n",
      "---  ------  --------------    -----  \n",
      " 0   ID      1302236 non-null  object \n",
      " 1   101     1302236 non-null  float64\n",
      " 2   102     1302236 non-null  float64\n",
      " 3   103     1302236 non-null  float64\n",
      " 4   104     1302236 non-null  float64\n",
      " 5   105     1302236 non-null  float64\n",
      " 6   106     1302236 non-null  float64\n",
      " 7   107     1302236 non-null  float64\n",
      " 8   108     1302236 non-null  float64\n",
      " 9   109     1302236 non-null  float64\n",
      " 10  110     1302236 non-null  float64\n",
      " 11  111     1302236 non-null  float64\n",
      " 12  112     1302236 non-null  float64\n",
      " 13  113     1302236 non-null  float64\n",
      " 14  114     1302236 non-null  float64\n",
      " 15  115     1302236 non-null  float64\n",
      "dtypes: float64(15), object(1)\n",
      "memory usage: 159.0+ MB\n"
     ]
    }
   ],
   "source": [
    "pivot_df.info()"
   ]
  },
  {
   "cell_type": "code",
   "execution_count": 59,
   "metadata": {},
   "outputs": [
    {
     "name": "stdout",
     "output_type": "stream",
     "text": [
      "All IDs are unique\n"
     ]
    }
   ],
   "source": [
    "# Check if the ID is unique\n",
    "# \"All IDs are unique\"\n",
    "if pivot_df['ID'].is_unique:\n",
    "    print(\"All IDs are unique\")\n",
    "else:\n",
    "    print(\"Existence of duplicate IDs\")"
   ]
  },
  {
   "cell_type": "markdown",
   "metadata": {},
   "source": [
    "## 4 Get gid_10 code"
   ]
  },
  {
   "cell_type": "markdown",
   "metadata": {},
   "source": [
    "## 4.1 Read in gid_10 data (Integration of 12x2x1000=24,000 documents)"
   ]
  },
  {
   "cell_type": "code",
   "execution_count": 63,
   "metadata": {},
   "outputs": [],
   "source": [
    "base_path = \"../../../../data/Locomizer/parametric_score_2023/2023\"\n",
    "months = range(5, 13) \n",
    "file_numbers = range(1, 1001) "
   ]
  },
  {
   "cell_type": "code",
   "execution_count": 64,
   "metadata": {},
   "outputs": [],
   "source": [
    "def read_and_concatenate(year, start_month, end_month, base_folder, folder_name):\n",
    "    base_path = f\"../../../../data/Locomizer/parametric_score_{year}/{year}\"\n",
    "    months = range(start_month, end_month + 1) \n",
    "    file_numbers = range(1, 1001) \n",
    "\n",
    "    all_files = []\n",
    "    for month in months:\n",
    "        month_folder = os.path.join(base_path, f\"{month:02}\", base_folder, folder_name)\n",
    "        files = [os.path.join(month_folder, f\"part-{i:05}\") for i in file_numbers]\n",
    "        all_files.extend(files)\n",
    "        \n",
    "        \n",
    "        df_list = [pd.read_csv(file, header=None) for file in files if os.path.exists(file)]\n",
    "        month_df = pd.concat(df_list, ignore_index=True)\n",
    "        \n",
    "        \n",
    "        print(f\"Completed reading and concatenating for {year}/{month:02} in {folder_name}.\")\n",
    "        \n",
    "    return pd.concat(df_list, ignore_index=True)\n",
    "\n",
    "def remove_duplicates(df):\n",
    "    unique_df = df.drop_duplicates(subset=[0], keep='first')\n",
    "    print(\"Duplicates removed.\")\n",
    "    return unique_df"
   ]
  },
  {
   "cell_type": "code",
   "execution_count": 65,
   "metadata": {},
   "outputs": [
    {
     "name": "stdout",
     "output_type": "stream",
     "text": [
      "Completed reading and concatenating for 2023/05 in locomizer_residents.\n",
      "Completed reading and concatenating for 2023/06 in locomizer_residents.\n",
      "Completed reading and concatenating for 2023/07 in locomizer_residents.\n",
      "Completed reading and concatenating for 2023/08 in locomizer_residents.\n",
      "Completed reading and concatenating for 2023/09 in locomizer_residents.\n",
      "Completed reading and concatenating for 2023/10 in locomizer_residents.\n",
      "Completed reading and concatenating for 2023/11 in locomizer_residents.\n",
      "Completed reading and concatenating for 2023/12 in locomizer_residents.\n",
      "Completed reading and concatenating for 2023/05 in locomizer_workers.\n",
      "Completed reading and concatenating for 2023/06 in locomizer_workers.\n",
      "Completed reading and concatenating for 2023/07 in locomizer_workers.\n",
      "Completed reading and concatenating for 2023/08 in locomizer_workers.\n",
      "Completed reading and concatenating for 2023/09 in locomizer_workers.\n",
      "Completed reading and concatenating for 2023/10 in locomizer_workers.\n",
      "Completed reading and concatenating for 2023/11 in locomizer_workers.\n",
      "Completed reading and concatenating for 2023/12 in locomizer_workers.\n"
     ]
    }
   ],
   "source": [
    "\n",
    "residents_2023 = read_and_concatenate(2023, 5, 12, \"FIN\", \"locomizer_residents\")\n",
    "workers_2023 = read_and_concatenate(2023, 5, 12, \"FIN\", \"locomizer_workers\")"
   ]
  },
  {
   "cell_type": "code",
   "execution_count": 66,
   "metadata": {},
   "outputs": [
    {
     "name": "stdout",
     "output_type": "stream",
     "text": [
      "Completed reading and concatenating for 2024/01 in locomizer_residents.\n",
      "Completed reading and concatenating for 2024/02 in locomizer_residents.\n",
      "Completed reading and concatenating for 2024/03 in locomizer_residents.\n",
      "Completed reading and concatenating for 2024/04 in locomizer_residents.\n",
      "Completed reading and concatenating for 2024/01 in locomizer_workers.\n",
      "Completed reading and concatenating for 2024/02 in locomizer_workers.\n",
      "Completed reading and concatenating for 2024/03 in locomizer_workers.\n",
      "Completed reading and concatenating for 2024/04 in locomizer_workers.\n"
     ]
    }
   ],
   "source": [
    "\n",
    "residents_2024 = read_and_concatenate(2024, 1, 4, \"FIN\", \"locomizer_residents\")\n",
    "workers_2024 = read_and_concatenate(2024, 1, 4, \"FIN\", \"locomizer_workers\")"
   ]
  },
  {
   "cell_type": "code",
   "execution_count": 67,
   "metadata": {},
   "outputs": [
    {
     "name": "stdout",
     "output_type": "stream",
     "text": [
      "Residents and workers data combined.\n"
     ]
    }
   ],
   "source": [
    "\n",
    "all_residents = pd.concat([residents_2023, residents_2024], ignore_index=True)\n",
    "all_workers = pd.concat([workers_2023, workers_2024], ignore_index=True)\n",
    "print(\"Residents and workers data combined.\")"
   ]
  },
  {
   "cell_type": "code",
   "execution_count": 68,
   "metadata": {},
   "outputs": [
    {
     "name": "stdout",
     "output_type": "stream",
     "text": [
      "Duplicates removed.\n",
      "Duplicates removed.\n",
      "Residents and workers data cleaned.\n"
     ]
    }
   ],
   "source": [
    "\n",
    "all_residents_cleaned = remove_duplicates(all_residents)\n",
    "all_workers_cleaned = remove_duplicates(all_workers)\n",
    "print(\"Residents and workers data cleaned.\")"
   ]
  },
  {
   "cell_type": "code",
   "execution_count": 69,
   "metadata": {},
   "outputs": [
    {
     "name": "stdout",
     "output_type": "stream",
     "text": [
      "Duplicates removed.\n",
      "Final data prepared.\n"
     ]
    }
   ],
   "source": [
    "\n",
    "all_data = pd.concat([all_residents_cleaned, all_workers_cleaned], ignore_index=True)\n",
    "final_cleaned_data = remove_duplicates(all_data)\n",
    "print(\"Final data prepared.\")"
   ]
  },
  {
   "cell_type": "code",
   "execution_count": 70,
   "metadata": {},
   "outputs": [
    {
     "name": "stdout",
     "output_type": "stream",
     "text": [
      "<class 'pandas.core.frame.DataFrame'>\n",
      "Index: 645872 entries, 0 to 948864\n",
      "Data columns (total 1 columns):\n",
      " #   Column  Non-Null Count   Dtype \n",
      "---  ------  --------------   ----- \n",
      " 0   0       645872 non-null  object\n",
      "dtypes: object(1)\n",
      "memory usage: 9.9+ MB\n"
     ]
    }
   ],
   "source": [
    "final_cleaned_data.info()"
   ]
  },
  {
   "cell_type": "code",
   "execution_count": 71,
   "metadata": {},
   "outputs": [
    {
     "data": {
      "text/html": [
       "<div>\n",
       "<style scoped>\n",
       "    .dataframe tbody tr th:only-of-type {\n",
       "        vertical-align: middle;\n",
       "    }\n",
       "\n",
       "    .dataframe tbody tr th {\n",
       "        vertical-align: top;\n",
       "    }\n",
       "\n",
       "    .dataframe thead th {\n",
       "        text-align: right;\n",
       "    }\n",
       "</style>\n",
       "<table border=\"1\" class=\"dataframe\">\n",
       "  <thead>\n",
       "    <tr style=\"text-align: right;\">\n",
       "      <th></th>\n",
       "      <th>0</th>\n",
       "    </tr>\n",
       "  </thead>\n",
       "  <tbody>\n",
       "    <tr>\n",
       "      <th>0</th>\n",
       "      <td>d51ae446-7aee-4ce2-baf3-8c60ce837511\\t8a088a8d...</td>\n",
       "    </tr>\n",
       "    <tr>\n",
       "      <th>1</th>\n",
       "      <td>4fffb2ba-0f0f-47a9-9df0-cea98d36d8f6\\t8a089969...</td>\n",
       "    </tr>\n",
       "    <tr>\n",
       "      <th>2</th>\n",
       "      <td>53d90d04-700a-4b48-9d2b-2d5ecaece65b\\t8a08d689...</td>\n",
       "    </tr>\n",
       "    <tr>\n",
       "      <th>3</th>\n",
       "      <td>0c5f09ea-3a4c-43d2-a47a-3b0ca81c91a6\\t8a112490...</td>\n",
       "    </tr>\n",
       "    <tr>\n",
       "      <th>4</th>\n",
       "      <td>85deae77-9401-474a-ac7b-338b3369cbdc\\t8a1126d0...</td>\n",
       "    </tr>\n",
       "  </tbody>\n",
       "</table>\n",
       "</div>"
      ],
      "text/plain": [
       "                                                   0\n",
       "0  d51ae446-7aee-4ce2-baf3-8c60ce837511\\t8a088a8d...\n",
       "1  4fffb2ba-0f0f-47a9-9df0-cea98d36d8f6\\t8a089969...\n",
       "2  53d90d04-700a-4b48-9d2b-2d5ecaece65b\\t8a08d689...\n",
       "3  0c5f09ea-3a4c-43d2-a47a-3b0ca81c91a6\\t8a112490...\n",
       "4  85deae77-9401-474a-ac7b-338b3369cbdc\\t8a1126d0..."
      ]
     },
     "execution_count": 71,
     "metadata": {},
     "output_type": "execute_result"
    }
   ],
   "source": [
    "final_cleaned_data.head()"
   ]
  },
  {
   "cell_type": "code",
   "execution_count": 74,
   "metadata": {},
   "outputs": [
    {
     "name": "stderr",
     "output_type": "stream",
     "text": [
      "/var/folders/k8/5696rnpn6mv66f3rfvm28_b00000gn/T/ipykernel_34072/1749958941.py:2: SettingWithCopyWarning: \n",
      "A value is trying to be set on a copy of a slice from a DataFrame.\n",
      "Try using .loc[row_indexer,col_indexer] = value instead\n",
      "\n",
      "See the caveats in the documentation: https://pandas.pydata.org/pandas-docs/stable/user_guide/indexing.html#returning-a-view-versus-a-copy\n",
      "  final_cleaned_data[['id', 'gid_10']] = final_cleaned_data['data'].str.split('\\t', expand=True)\n",
      "/var/folders/k8/5696rnpn6mv66f3rfvm28_b00000gn/T/ipykernel_34072/1749958941.py:2: SettingWithCopyWarning: \n",
      "A value is trying to be set on a copy of a slice from a DataFrame.\n",
      "Try using .loc[row_indexer,col_indexer] = value instead\n",
      "\n",
      "See the caveats in the documentation: https://pandas.pydata.org/pandas-docs/stable/user_guide/indexing.html#returning-a-view-versus-a-copy\n",
      "  final_cleaned_data[['id', 'gid_10']] = final_cleaned_data['data'].str.split('\\t', expand=True)\n"
     ]
    },
    {
     "data": {
      "text/html": [
       "<div>\n",
       "<style scoped>\n",
       "    .dataframe tbody tr th:only-of-type {\n",
       "        vertical-align: middle;\n",
       "    }\n",
       "\n",
       "    .dataframe tbody tr th {\n",
       "        vertical-align: top;\n",
       "    }\n",
       "\n",
       "    .dataframe thead th {\n",
       "        text-align: right;\n",
       "    }\n",
       "</style>\n",
       "<table border=\"1\" class=\"dataframe\">\n",
       "  <thead>\n",
       "    <tr style=\"text-align: right;\">\n",
       "      <th></th>\n",
       "      <th>data</th>\n",
       "      <th>id</th>\n",
       "      <th>gid_10</th>\n",
       "    </tr>\n",
       "  </thead>\n",
       "  <tbody>\n",
       "    <tr>\n",
       "      <th>0</th>\n",
       "      <td>d51ae446-7aee-4ce2-baf3-8c60ce837511\\t8a088a8d...</td>\n",
       "      <td>d51ae446-7aee-4ce2-baf3-8c60ce837511</td>\n",
       "      <td>8a088a8dd22ffff</td>\n",
       "    </tr>\n",
       "    <tr>\n",
       "      <th>1</th>\n",
       "      <td>4fffb2ba-0f0f-47a9-9df0-cea98d36d8f6\\t8a089969...</td>\n",
       "      <td>4fffb2ba-0f0f-47a9-9df0-cea98d36d8f6</td>\n",
       "      <td>8a089969b38ffff</td>\n",
       "    </tr>\n",
       "    <tr>\n",
       "      <th>2</th>\n",
       "      <td>53d90d04-700a-4b48-9d2b-2d5ecaece65b\\t8a08d689...</td>\n",
       "      <td>53d90d04-700a-4b48-9d2b-2d5ecaece65b</td>\n",
       "      <td>8a08d689ed37fff</td>\n",
       "    </tr>\n",
       "    <tr>\n",
       "      <th>3</th>\n",
       "      <td>0c5f09ea-3a4c-43d2-a47a-3b0ca81c91a6\\t8a112490...</td>\n",
       "      <td>0c5f09ea-3a4c-43d2-a47a-3b0ca81c91a6</td>\n",
       "      <td>8a112490cd57fff</td>\n",
       "    </tr>\n",
       "    <tr>\n",
       "      <th>4</th>\n",
       "      <td>85deae77-9401-474a-ac7b-338b3369cbdc\\t8a1126d0...</td>\n",
       "      <td>85deae77-9401-474a-ac7b-338b3369cbdc</td>\n",
       "      <td>8a1126d0dd37fff</td>\n",
       "    </tr>\n",
       "  </tbody>\n",
       "</table>\n",
       "</div>"
      ],
      "text/plain": [
       "                                                data  \\\n",
       "0  d51ae446-7aee-4ce2-baf3-8c60ce837511\\t8a088a8d...   \n",
       "1  4fffb2ba-0f0f-47a9-9df0-cea98d36d8f6\\t8a089969...   \n",
       "2  53d90d04-700a-4b48-9d2b-2d5ecaece65b\\t8a08d689...   \n",
       "3  0c5f09ea-3a4c-43d2-a47a-3b0ca81c91a6\\t8a112490...   \n",
       "4  85deae77-9401-474a-ac7b-338b3369cbdc\\t8a1126d0...   \n",
       "\n",
       "                                     id           gid_10  \n",
       "0  d51ae446-7aee-4ce2-baf3-8c60ce837511  8a088a8dd22ffff  \n",
       "1  4fffb2ba-0f0f-47a9-9df0-cea98d36d8f6  8a089969b38ffff  \n",
       "2  53d90d04-700a-4b48-9d2b-2d5ecaece65b  8a08d689ed37fff  \n",
       "3  0c5f09ea-3a4c-43d2-a47a-3b0ca81c91a6  8a112490cd57fff  \n",
       "4  85deae77-9401-474a-ac7b-338b3369cbdc  8a1126d0dd37fff  "
      ]
     },
     "execution_count": 74,
     "metadata": {},
     "output_type": "execute_result"
    }
   ],
   "source": [
    "final_cleaned_data.columns = ['data']\n",
    "final_cleaned_data[['id', 'gid_10']] = final_cleaned_data['data'].str.split('\\t', expand=True)\n",
    "final_cleaned_data.head()"
   ]
  },
  {
   "cell_type": "code",
   "execution_count": 75,
   "metadata": {},
   "outputs": [
    {
     "name": "stderr",
     "output_type": "stream",
     "text": [
      "/var/folders/k8/5696rnpn6mv66f3rfvm28_b00000gn/T/ipykernel_34072/2629803143.py:2: SettingWithCopyWarning: \n",
      "A value is trying to be set on a copy of a slice from a DataFrame\n",
      "\n",
      "See the caveats in the documentation: https://pandas.pydata.org/pandas-docs/stable/user_guide/indexing.html#returning-a-view-versus-a-copy\n",
      "  final_cleaned_data.drop(columns='data', inplace=True)\n"
     ]
    }
   ],
   "source": [
    "\n",
    "final_cleaned_data.drop(columns='data', inplace=True)"
   ]
  },
  {
   "cell_type": "code",
   "execution_count": 76,
   "metadata": {},
   "outputs": [
    {
     "name": "stdout",
     "output_type": "stream",
     "text": [
      "<class 'pandas.core.frame.DataFrame'>\n",
      "Index: 645872 entries, 0 to 948864\n",
      "Data columns (total 2 columns):\n",
      " #   Column  Non-Null Count   Dtype \n",
      "---  ------  --------------   ----- \n",
      " 0   id      645872 non-null  object\n",
      " 1   gid_10  645872 non-null  object\n",
      "dtypes: object(2)\n",
      "memory usage: 14.8+ MB\n"
     ]
    },
    {
     "data": {
      "text/html": [
       "<div>\n",
       "<style scoped>\n",
       "    .dataframe tbody tr th:only-of-type {\n",
       "        vertical-align: middle;\n",
       "    }\n",
       "\n",
       "    .dataframe tbody tr th {\n",
       "        vertical-align: top;\n",
       "    }\n",
       "\n",
       "    .dataframe thead th {\n",
       "        text-align: right;\n",
       "    }\n",
       "</style>\n",
       "<table border=\"1\" class=\"dataframe\">\n",
       "  <thead>\n",
       "    <tr style=\"text-align: right;\">\n",
       "      <th></th>\n",
       "      <th>id</th>\n",
       "      <th>gid_10</th>\n",
       "    </tr>\n",
       "  </thead>\n",
       "  <tbody>\n",
       "    <tr>\n",
       "      <th>0</th>\n",
       "      <td>d51ae446-7aee-4ce2-baf3-8c60ce837511</td>\n",
       "      <td>8a088a8dd22ffff</td>\n",
       "    </tr>\n",
       "    <tr>\n",
       "      <th>1</th>\n",
       "      <td>4fffb2ba-0f0f-47a9-9df0-cea98d36d8f6</td>\n",
       "      <td>8a089969b38ffff</td>\n",
       "    </tr>\n",
       "    <tr>\n",
       "      <th>2</th>\n",
       "      <td>53d90d04-700a-4b48-9d2b-2d5ecaece65b</td>\n",
       "      <td>8a08d689ed37fff</td>\n",
       "    </tr>\n",
       "    <tr>\n",
       "      <th>3</th>\n",
       "      <td>0c5f09ea-3a4c-43d2-a47a-3b0ca81c91a6</td>\n",
       "      <td>8a112490cd57fff</td>\n",
       "    </tr>\n",
       "    <tr>\n",
       "      <th>4</th>\n",
       "      <td>85deae77-9401-474a-ac7b-338b3369cbdc</td>\n",
       "      <td>8a1126d0dd37fff</td>\n",
       "    </tr>\n",
       "  </tbody>\n",
       "</table>\n",
       "</div>"
      ],
      "text/plain": [
       "                                     id           gid_10\n",
       "0  d51ae446-7aee-4ce2-baf3-8c60ce837511  8a088a8dd22ffff\n",
       "1  4fffb2ba-0f0f-47a9-9df0-cea98d36d8f6  8a089969b38ffff\n",
       "2  53d90d04-700a-4b48-9d2b-2d5ecaece65b  8a08d689ed37fff\n",
       "3  0c5f09ea-3a4c-43d2-a47a-3b0ca81c91a6  8a112490cd57fff\n",
       "4  85deae77-9401-474a-ac7b-338b3369cbdc  8a1126d0dd37fff"
      ]
     },
     "execution_count": 76,
     "metadata": {},
     "output_type": "execute_result"
    }
   ],
   "source": [
    "final_cleaned_data.info()\n",
    "final_cleaned_data.head()"
   ]
  },
  {
   "cell_type": "markdown",
   "metadata": {},
   "source": [
    "## 4.2 Join data - to get gid_10 for each id"
   ]
  },
  {
   "cell_type": "code",
   "execution_count": 77,
   "metadata": {},
   "outputs": [
    {
     "data": {
      "text/html": [
       "<div>\n",
       "<style scoped>\n",
       "    .dataframe tbody tr th:only-of-type {\n",
       "        vertical-align: middle;\n",
       "    }\n",
       "\n",
       "    .dataframe tbody tr th {\n",
       "        vertical-align: top;\n",
       "    }\n",
       "\n",
       "    .dataframe thead th {\n",
       "        text-align: right;\n",
       "    }\n",
       "</style>\n",
       "<table border=\"1\" class=\"dataframe\">\n",
       "  <thead>\n",
       "    <tr style=\"text-align: right;\">\n",
       "      <th></th>\n",
       "      <th>ID</th>\n",
       "      <th>101</th>\n",
       "      <th>102</th>\n",
       "      <th>103</th>\n",
       "      <th>104</th>\n",
       "      <th>105</th>\n",
       "      <th>106</th>\n",
       "      <th>107</th>\n",
       "      <th>108</th>\n",
       "      <th>109</th>\n",
       "      <th>110</th>\n",
       "      <th>111</th>\n",
       "      <th>112</th>\n",
       "      <th>113</th>\n",
       "      <th>114</th>\n",
       "      <th>115</th>\n",
       "      <th>id</th>\n",
       "      <th>gid_10</th>\n",
       "    </tr>\n",
       "  </thead>\n",
       "  <tbody>\n",
       "    <tr>\n",
       "      <th>0</th>\n",
       "      <td>00000000-3bf7-56be-c8ef-0c4666a6ed36</td>\n",
       "      <td>16.648749</td>\n",
       "      <td>44.152675</td>\n",
       "      <td>88.142294</td>\n",
       "      <td>9.483273</td>\n",
       "      <td>99.915290</td>\n",
       "      <td>107.423721</td>\n",
       "      <td>73.211517</td>\n",
       "      <td>87.911140</td>\n",
       "      <td>65.965107</td>\n",
       "      <td>63.235610</td>\n",
       "      <td>18.868994</td>\n",
       "      <td>51.914051</td>\n",
       "      <td>6.547848</td>\n",
       "      <td>32.132615</td>\n",
       "      <td>61.368284</td>\n",
       "      <td>NaN</td>\n",
       "      <td>NaN</td>\n",
       "    </tr>\n",
       "    <tr>\n",
       "      <th>1</th>\n",
       "      <td>00000000-3c88-ddfb-fc65-f2bf3eb90ad4</td>\n",
       "      <td>0.000000</td>\n",
       "      <td>0.000000</td>\n",
       "      <td>13.591256</td>\n",
       "      <td>52.169873</td>\n",
       "      <td>86.650694</td>\n",
       "      <td>64.534465</td>\n",
       "      <td>0.000000</td>\n",
       "      <td>59.035086</td>\n",
       "      <td>13.591256</td>\n",
       "      <td>7.701635</td>\n",
       "      <td>51.731176</td>\n",
       "      <td>0.000000</td>\n",
       "      <td>0.000000</td>\n",
       "      <td>8.185950</td>\n",
       "      <td>0.000000</td>\n",
       "      <td>NaN</td>\n",
       "      <td>NaN</td>\n",
       "    </tr>\n",
       "    <tr>\n",
       "      <th>2</th>\n",
       "      <td>000000ec-306f-603f-21a0-26e3d3a690f9</td>\n",
       "      <td>0.000000</td>\n",
       "      <td>0.000000</td>\n",
       "      <td>53.453497</td>\n",
       "      <td>0.000000</td>\n",
       "      <td>80.473127</td>\n",
       "      <td>15.541134</td>\n",
       "      <td>173.055228</td>\n",
       "      <td>113.718114</td>\n",
       "      <td>0.000000</td>\n",
       "      <td>0.000000</td>\n",
       "      <td>6.237392</td>\n",
       "      <td>55.069112</td>\n",
       "      <td>0.000000</td>\n",
       "      <td>0.000000</td>\n",
       "      <td>74.649449</td>\n",
       "      <td>NaN</td>\n",
       "      <td>NaN</td>\n",
       "    </tr>\n",
       "    <tr>\n",
       "      <th>3</th>\n",
       "      <td>00000bfc-ea1f-4789-916b-6466c1d456af</td>\n",
       "      <td>67.857328</td>\n",
       "      <td>41.264206</td>\n",
       "      <td>125.862793</td>\n",
       "      <td>52.816490</td>\n",
       "      <td>70.127947</td>\n",
       "      <td>45.966446</td>\n",
       "      <td>97.356606</td>\n",
       "      <td>88.877302</td>\n",
       "      <td>99.398662</td>\n",
       "      <td>78.560809</td>\n",
       "      <td>8.135838</td>\n",
       "      <td>66.573743</td>\n",
       "      <td>5.745851</td>\n",
       "      <td>0.718489</td>\n",
       "      <td>62.911062</td>\n",
       "      <td>NaN</td>\n",
       "      <td>NaN</td>\n",
       "    </tr>\n",
       "    <tr>\n",
       "      <th>4</th>\n",
       "      <td>00000c64-ab8d-4baa-94f4-6d653ff1aa0f</td>\n",
       "      <td>50.360191</td>\n",
       "      <td>77.070335</td>\n",
       "      <td>114.605382</td>\n",
       "      <td>54.267778</td>\n",
       "      <td>118.911572</td>\n",
       "      <td>36.396126</td>\n",
       "      <td>170.787877</td>\n",
       "      <td>103.778851</td>\n",
       "      <td>11.359709</td>\n",
       "      <td>56.498470</td>\n",
       "      <td>36.140814</td>\n",
       "      <td>15.542064</td>\n",
       "      <td>6.047429</td>\n",
       "      <td>8.554166</td>\n",
       "      <td>61.689939</td>\n",
       "      <td>NaN</td>\n",
       "      <td>NaN</td>\n",
       "    </tr>\n",
       "  </tbody>\n",
       "</table>\n",
       "</div>"
      ],
      "text/plain": [
       "                                     ID        101        102         103  \\\n",
       "0  00000000-3bf7-56be-c8ef-0c4666a6ed36  16.648749  44.152675   88.142294   \n",
       "1  00000000-3c88-ddfb-fc65-f2bf3eb90ad4   0.000000   0.000000   13.591256   \n",
       "2  000000ec-306f-603f-21a0-26e3d3a690f9   0.000000   0.000000   53.453497   \n",
       "3  00000bfc-ea1f-4789-916b-6466c1d456af  67.857328  41.264206  125.862793   \n",
       "4  00000c64-ab8d-4baa-94f4-6d653ff1aa0f  50.360191  77.070335  114.605382   \n",
       "\n",
       "         104         105         106         107         108        109  \\\n",
       "0   9.483273   99.915290  107.423721   73.211517   87.911140  65.965107   \n",
       "1  52.169873   86.650694   64.534465    0.000000   59.035086  13.591256   \n",
       "2   0.000000   80.473127   15.541134  173.055228  113.718114   0.000000   \n",
       "3  52.816490   70.127947   45.966446   97.356606   88.877302  99.398662   \n",
       "4  54.267778  118.911572   36.396126  170.787877  103.778851  11.359709   \n",
       "\n",
       "         110        111        112       113        114        115   id gid_10  \n",
       "0  63.235610  18.868994  51.914051  6.547848  32.132615  61.368284  NaN    NaN  \n",
       "1   7.701635  51.731176   0.000000  0.000000   8.185950   0.000000  NaN    NaN  \n",
       "2   0.000000   6.237392  55.069112  0.000000   0.000000  74.649449  NaN    NaN  \n",
       "3  78.560809   8.135838  66.573743  5.745851   0.718489  62.911062  NaN    NaN  \n",
       "4  56.498470  36.140814  15.542064  6.047429   8.554166  61.689939  NaN    NaN  "
      ]
     },
     "execution_count": 77,
     "metadata": {},
     "output_type": "execute_result"
    }
   ],
   "source": [
    "merged_df = pd.merge(pivot_df, final_cleaned_data, left_on='ID', right_on='id', how='left')\n",
    "merged_df.head()"
   ]
  },
  {
   "cell_type": "code",
   "execution_count": 78,
   "metadata": {},
   "outputs": [
    {
     "name": "stdout",
     "output_type": "stream",
     "text": [
      "<class 'pandas.core.frame.DataFrame'>\n",
      "RangeIndex: 1441984 entries, 0 to 1441983\n",
      "Data columns (total 18 columns):\n",
      " #   Column  Non-Null Count    Dtype  \n",
      "---  ------  --------------    -----  \n",
      " 0   ID      1441984 non-null  object \n",
      " 1   101     1441984 non-null  float64\n",
      " 2   102     1441984 non-null  float64\n",
      " 3   103     1441984 non-null  float64\n",
      " 4   104     1441984 non-null  float64\n",
      " 5   105     1441984 non-null  float64\n",
      " 6   106     1441984 non-null  float64\n",
      " 7   107     1441984 non-null  float64\n",
      " 8   108     1441984 non-null  float64\n",
      " 9   109     1441984 non-null  float64\n",
      " 10  110     1441984 non-null  float64\n",
      " 11  111     1441984 non-null  float64\n",
      " 12  112     1441984 non-null  float64\n",
      " 13  113     1441984 non-null  float64\n",
      " 14  114     1441984 non-null  float64\n",
      " 15  115     1441984 non-null  float64\n",
      " 16  id      557166 non-null   object \n",
      " 17  gid_10  557166 non-null   object \n",
      "dtypes: float64(15), object(3)\n",
      "memory usage: 198.0+ MB\n"
     ]
    }
   ],
   "source": [
    "merged_df.info()"
   ]
  },
  {
   "cell_type": "code",
   "execution_count": 79,
   "metadata": {},
   "outputs": [],
   "source": [
    "# Do not need to keep the ‘id’ column of final_cleaned_data, delete it.\n",
    "merged_df.drop(columns='id', inplace=True)"
   ]
  },
  {
   "cell_type": "code",
   "execution_count": null,
   "metadata": {},
   "outputs": [],
   "source": [
    "# Delete rows where ‘gid_10’ is empty\n",
    "final_df = merged_df.dropna(subset=['gid_10'])"
   ]
  },
  {
   "cell_type": "code",
   "execution_count": 81,
   "metadata": {},
   "outputs": [
    {
     "name": "stdout",
     "output_type": "stream",
     "text": [
      "<class 'pandas.core.frame.DataFrame'>\n",
      "Index: 557166 entries, 9 to 1441981\n",
      "Data columns (total 17 columns):\n",
      " #   Column  Non-Null Count   Dtype  \n",
      "---  ------  --------------   -----  \n",
      " 0   ID      557166 non-null  object \n",
      " 1   101     557166 non-null  float64\n",
      " 2   102     557166 non-null  float64\n",
      " 3   103     557166 non-null  float64\n",
      " 4   104     557166 non-null  float64\n",
      " 5   105     557166 non-null  float64\n",
      " 6   106     557166 non-null  float64\n",
      " 7   107     557166 non-null  float64\n",
      " 8   108     557166 non-null  float64\n",
      " 9   109     557166 non-null  float64\n",
      " 10  110     557166 non-null  float64\n",
      " 11  111     557166 non-null  float64\n",
      " 12  112     557166 non-null  float64\n",
      " 13  113     557166 non-null  float64\n",
      " 14  114     557166 non-null  float64\n",
      " 15  115     557166 non-null  float64\n",
      " 16  gid_10  557166 non-null  object \n",
      "dtypes: float64(15), object(2)\n",
      "memory usage: 76.5+ MB\n"
     ]
    }
   ],
   "source": [
    "final_df.info()"
   ]
  },
  {
   "cell_type": "markdown",
   "metadata": {},
   "source": [
    "## 5 Export data"
   ]
  },
  {
   "cell_type": "code",
   "execution_count": 82,
   "metadata": {},
   "outputs": [],
   "source": [
    "# Save the combined DataFrame to a text file\n",
    "output_path = '../../../../data/Locomizer_edited/profiling/whole_year_scores_with_gid.txt'\n",
    "final_df.to_csv(output_path, sep='\\t', index=False)"
   ]
  }
 ],
 "metadata": {
  "kernelspec": {
   "display_name": "base",
   "language": "python",
   "name": "python3"
  },
  "language_info": {
   "codemirror_mode": {
    "name": "ipython",
    "version": 3
   },
   "file_extension": ".py",
   "mimetype": "text/x-python",
   "name": "python",
   "nbconvert_exporter": "python",
   "pygments_lexer": "ipython3",
   "version": "3.11.5"
  }
 },
 "nbformat": 4,
 "nbformat_minor": 2
}
